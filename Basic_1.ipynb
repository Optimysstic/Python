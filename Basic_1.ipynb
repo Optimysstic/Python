{
  "nbformat": 4,
  "nbformat_minor": 0,
  "metadata": {
    "colab": {
      "provenance": []
    },
    "kernelspec": {
      "name": "python3",
      "display_name": "Python 3"
    },
    "language_info": {
      "name": "python"
    }
  },
  "cells": [
    {
      "cell_type": "markdown",
      "source": [
        "Today we are going to cover the following topics:\n",
        "\n",
        "variables\n",
        "\n",
        "types\n",
        "\n",
        "conditionals\n",
        "\n",
        "loops"
      ],
      "metadata": {
        "id": "qGI9i1tSH3p4"
      }
    },
    {
      "cell_type": "markdown",
      "source": [
        "Variables & Types"
      ],
      "metadata": {
        "id": "L8XI1ZgvIMSK"
      }
    },
    {
      "cell_type": "markdown",
      "source": [
        "“If you wanted a program to remember your age and your friend’s name, how would you store that in code?”"
      ],
      "metadata": {
        "id": "Dgc60ppBITy6"
      }
    },
    {
      "cell_type": "code",
      "source": [
        "# Variables: containers for data, created by assignment (=).\n",
        "\n",
        "age = 26\n",
        "name = \"Dush\""
      ],
      "metadata": {
        "id": "pDX1YH2XH9S0"
      },
      "execution_count": 1,
      "outputs": []
    },
    {
      "cell_type": "code",
      "source": [
        "# Dynamic typing: Python figures out the type automatically.\n",
        "\n",
        "x = 7\n",
        "x = 7.8"
      ],
      "metadata": {
        "id": "lVXuO07tIvjQ"
      },
      "execution_count": 2,
      "outputs": []
    },
    {
      "cell_type": "markdown",
      "source": [
        "Naming rules: letters, digits, underscores; can’t start with a digit; case sensitive."
      ],
      "metadata": {
        "id": "gr8VBIZKI4XU"
      }
    },
    {
      "cell_type": "markdown",
      "source": [
        "Basic types (emphasize those useful in CP):\n",
        "\n",
        "int (arbitrary precision)\n",
        "\n",
        "float (rare in contests except geometry)\n",
        "\n",
        "str\n",
        "\n",
        "bool (True/False)"
      ],
      "metadata": {
        "id": "dM4wC3yPJAr1"
      }
    },
    {
      "cell_type": "code",
      "source": [
        "# Multiple assignment (common in contests when reading inputs)\n",
        "\n",
        "a, b = 7, 8"
      ],
      "metadata": {
        "id": "dMhy0zSRI08Q"
      },
      "execution_count": 3,
      "outputs": []
    },
    {
      "cell_type": "code",
      "source": [
        "# Type casting: converting a value from one data type to another.\n",
        "\n",
        "int(\"123\"), str(45), float(7), bool(0)"
      ],
      "metadata": {
        "colab": {
          "base_uri": "https://localhost:8080/"
        },
        "id": "1WRRILeXJOMN",
        "outputId": "7b72a632-d7cc-40ba-c0fc-5e8f2dfa85e2"
      },
      "execution_count": 4,
      "outputs": [
        {
          "output_type": "execute_result",
          "data": {
            "text/plain": [
              "(123, '45', 7.0, False)"
            ]
          },
          "metadata": {},
          "execution_count": 4
        }
      ]
    },
    {
      "cell_type": "code",
      "source": [
        "# Checking types (demo type()).\n",
        "\n",
        "type(age)"
      ],
      "metadata": {
        "colab": {
          "base_uri": "https://localhost:8080/"
        },
        "id": "OwgRIYUGJidR",
        "outputId": "cb2bb4dd-05c1-44c9-a6fd-a8c359214bb1"
      },
      "execution_count": 5,
      "outputs": [
        {
          "output_type": "execute_result",
          "data": {
            "text/plain": [
              "int"
            ]
          },
          "metadata": {},
          "execution_count": 5
        }
      ]
    },
    {
      "cell_type": "code",
      "source": [
        "# solve sum of two numbers i.e 7+8 = 15\n",
        "# What do you think happens if i try a + \"7\"?"
      ],
      "metadata": {
        "id": "uZ_9PR7_JlQp"
      },
      "execution_count": 9,
      "outputs": []
    },
    {
      "cell_type": "code",
      "source": [
        "# Input is always string from input(), so you must convert:\n",
        "\n",
        "n = int(input())"
      ],
      "metadata": {
        "colab": {
          "base_uri": "https://localhost:8080/"
        },
        "id": "-3yx-KsWKNkI",
        "outputId": "36fd3804-5753-4bff-d73f-5e5595ea5a29"
      },
      "execution_count": 8,
      "outputs": [
        {
          "name": "stdout",
          "output_type": "stream",
          "text": [
            "7\n"
          ]
        }
      ]
    },
    {
      "cell_type": "code",
      "source": [
        "# Multiple inputs in one line (common in CP):\n",
        "\n",
        "a, b = map(int, input().split())"
      ],
      "metadata": {
        "id": "SckAG9sNKQ_G"
      },
      "execution_count": 7,
      "outputs": []
    },
    {
      "cell_type": "code",
      "source": [
        "# Spot/fix mistakes:\n",
        "\n",
        "# 1st_num = 10\n",
        "# second-num = 20\n",
        "# print(1st_num + second-num)"
      ],
      "metadata": {
        "id": "AjpKbXfmLIUl"
      },
      "execution_count": 10,
      "outputs": []
    },
    {
      "cell_type": "markdown",
      "source": [
        "Homework\n",
        "\n",
        "Write a program that reads two integers and prints their sum, difference, and product. (Practice converting input strings to integers.)\n",
        "\n",
        "Store your name and age in variables, then print:\n",
        "My name is your own name and I am current age years old.\n",
        "\n",
        "Try intentionally mixing types (like adding int + str). Note the error."
      ],
      "metadata": {
        "id": "A-FgmZ2TMFsK"
      }
    },
    {
      "cell_type": "markdown",
      "source": [
        "Conditionals"
      ],
      "metadata": {
        "id": "RGz1iEHtMkKZ"
      }
    },
    {
      "cell_type": "markdown",
      "source": [
        "“Suppose you’re writing a program to check if someone can vote. If age ≥ 18 → Yes, else → No. How would you tell the computer to ‘decide’?”"
      ],
      "metadata": {
        "id": "00pLOPreMwFX"
      }
    },
    {
      "cell_type": "code",
      "source": [
        "# Basic if syntax (indentation required)\n",
        "\n",
        "age1 = 26\n",
        "if age >= 18:\n",
        "  print(\"you're eligible to vote\")"
      ],
      "metadata": {
        "colab": {
          "base_uri": "https://localhost:8080/"
        },
        "id": "L8kWVhJXMxmR",
        "outputId": "40061e02-58b8-45fa-b19c-c7c96182d9a4"
      },
      "execution_count": 12,
      "outputs": [
        {
          "output_type": "stream",
          "name": "stdout",
          "text": [
            "you're eligible to vote\n"
          ]
        }
      ]
    },
    {
      "cell_type": "code",
      "source": [
        "# else branch\n",
        "\n",
        "age1 = 26\n",
        "if age >= 18:\n",
        "  print(\"you're eligible to vote\")\n",
        "else:\n",
        "  print(\"you're not eligible to vote\")"
      ],
      "metadata": {
        "colab": {
          "base_uri": "https://localhost:8080/"
        },
        "id": "DPQSiz5SNTk8",
        "outputId": "9b3d0bbe-fc35-412d-c571-7b7fa4f7daf2"
      },
      "execution_count": 13,
      "outputs": [
        {
          "output_type": "stream",
          "name": "stdout",
          "text": [
            "you're eligible to vote\n"
          ]
        }
      ]
    },
    {
      "cell_type": "code",
      "source": [
        "# elif (else if)\n",
        "\n",
        "score = 85\n",
        "if score >= 90:\n",
        "    print(\"A\")\n",
        "elif score >= 80:\n",
        "    print(\"B\")\n",
        "else:\n",
        "    print(\"C or lower\")"
      ],
      "metadata": {
        "colab": {
          "base_uri": "https://localhost:8080/"
        },
        "id": "541WLtYiN1BR",
        "outputId": "d4db5193-ac79-4fb4-cc0d-ed70edeb6f6b"
      },
      "execution_count": 14,
      "outputs": [
        {
          "output_type": "stream",
          "name": "stdout",
          "text": [
            "B\n"
          ]
        }
      ]
    },
    {
      "cell_type": "markdown",
      "source": [
        "Comparison operators: ==, !=, <, <=, >, >=.\n",
        "\n",
        "Logical operators: and, or, not.\n",
        "\n",
        "Boolean values: True, False."
      ],
      "metadata": {
        "id": "3k67tBaDOEk2"
      }
    },
    {
      "cell_type": "code",
      "source": [
        "# Python shorthand\n",
        "\n",
        "result = \"Even\" if x % 2 == 0 else \"Odd\""
      ],
      "metadata": {
        "id": "xvDNFZcGOH2N"
      },
      "execution_count": 15,
      "outputs": []
    },
    {
      "cell_type": "code",
      "source": [
        "# checking even or odd\n",
        "x = 7\n",
        "if x % 2 == 0:\n",
        "    print(\"Even\")\n",
        "else:\n",
        "    print(\"Odd\")"
      ],
      "metadata": {
        "colab": {
          "base_uri": "https://localhost:8080/"
        },
        "id": "dU8xpxvCOtb6",
        "outputId": "ebfa49c8-778b-48c9-d099-983027d6e99c"
      },
      "execution_count": 16,
      "outputs": [
        {
          "output_type": "stream",
          "name": "stdout",
          "text": [
            "Odd\n"
          ]
        }
      ]
    },
    {
      "cell_type": "code",
      "source": [
        "# Combine conditions\n",
        "n = 15\n",
        "if n % 3 == 0 and n % 5 == 0:\n",
        "    print(\"FizzBuzz\")\n",
        "elif n % 3 == 0:\n",
        "    print(\"Fizz\")\n",
        "elif n % 5 == 0:\n",
        "    print(\"Buzz\")\n",
        "else:\n",
        "    print(n)"
      ],
      "metadata": {
        "colab": {
          "base_uri": "https://localhost:8080/"
        },
        "id": "Nqd535aZOz9X",
        "outputId": "0859ea01-6056-4297-e4cb-3808c49e0fdb"
      },
      "execution_count": 17,
      "outputs": [
        {
          "output_type": "stream",
          "name": "stdout",
          "text": [
            "FizzBuzz\n"
          ]
        }
      ]
    },
    {
      "cell_type": "code",
      "source": [
        "# try this question:\n",
        "\n",
        "# What would the output be if n = 10?"
      ],
      "metadata": {
        "id": "Oefu6RQ-O-UJ"
      },
      "execution_count": 18,
      "outputs": []
    },
    {
      "cell_type": "markdown",
      "source": [
        "Many problems boil down to checking conditions (e.g., “YES”/“NO” problems).\n",
        "\n",
        "Example:\n",
        "\n",
        "Input: 5\n",
        "\n",
        "Output: Odd\n",
        "\n",
        "Input: 8\n",
        "\n",
        "Output: Even\n",
        "\n",
        "Conditionals are the backbone of “decision-making problems” in Codeforces/AtCoder A-level."
      ],
      "metadata": {
        "id": "fMJDk83UQAHy"
      }
    },
    {
      "cell_type": "code",
      "source": [
        "# Fix this buggy code:\n",
        "\n",
        "#num = int(input())\n",
        "#if num % 2 = 0:\n",
        "    #print(\"Even\")\n",
        "#else\n",
        "    #print(\"Odd\")"
      ],
      "metadata": {
        "id": "QQrXEw_FQPwy"
      },
      "execution_count": 19,
      "outputs": []
    },
    {
      "cell_type": "markdown",
      "source": [
        "Homework\n",
        "\n",
        "Write a program that takes an integer n and prints:\n",
        "\n",
        "\"Positive\" if n > 0\n",
        "\n",
        "\"Negative\" if n < 0\n",
        "\n",
        "\"Zero\" if n == 0\n",
        "\n",
        "Write a program that checks if a given year is a leap year.\n",
        "(Rule: divisible by 400, or divisible by 4 but not by 100.)\n",
        "\n",
        "Challenge: Given three integers, print the largest."
      ],
      "metadata": {
        "id": "9VIjAObwSAz4"
      }
    },
    {
      "cell_type": "markdown",
      "source": [
        "Loops (for / while)"
      ],
      "metadata": {
        "id": "-kA8DGE2SL96"
      }
    },
    {
      "cell_type": "markdown",
      "source": [
        "“If you had to print numbers 1 to 100, would you rather write 100 print statements, or tell the computer to repeat a smaller block of code?”."
      ],
      "metadata": {
        "id": "PmKvVR9FSUTf"
      }
    },
    {
      "cell_type": "code",
      "source": [
        "# for loop (with range)\n",
        "\n",
        "for i in range(5):\n",
        "    print(i)"
      ],
      "metadata": {
        "colab": {
          "base_uri": "https://localhost:8080/"
        },
        "id": "8mRdWt7iSNOI",
        "outputId": "6ae72f89-ecab-496b-df9a-dbe1a9351071"
      },
      "execution_count": 20,
      "outputs": [
        {
          "output_type": "stream",
          "name": "stdout",
          "text": [
            "0\n",
            "1\n",
            "2\n",
            "3\n",
            "4\n"
          ]
        }
      ]
    },
    {
      "cell_type": "markdown",
      "source": [
        "range(start, stop, step).\n",
        "\n",
        "Common in CP: for i in range(n):."
      ],
      "metadata": {
        "id": "uZPNE8jZSyB0"
      }
    },
    {
      "cell_type": "code",
      "source": [
        "# while loop\n",
        "\n",
        "n = 5\n",
        "while n > 0:\n",
        "    print(n)\n",
        "    n -= 1"
      ],
      "metadata": {
        "colab": {
          "base_uri": "https://localhost:8080/"
        },
        "id": "QkzwMsQqTDvq",
        "outputId": "fa8303c0-e1ae-4cbc-ff55-09cc83d68bab"
      },
      "execution_count": 21,
      "outputs": [
        {
          "output_type": "stream",
          "name": "stdout",
          "text": [
            "5\n",
            "4\n",
            "3\n",
            "2\n",
            "1\n"
          ]
        }
      ]
    },
    {
      "cell_type": "markdown",
      "source": [
        "Loop control\n",
        "\n",
        "break (exit loop early)\n",
        "\n",
        "continue (skip to next iteration)"
      ],
      "metadata": {
        "id": "EvfpkaVhTNRz"
      }
    },
    {
      "cell_type": "code",
      "source": [
        "# Nested loops\n",
        "\n",
        "for i in range(3):\n",
        "    for j in range(2):\n",
        "        print(i, j)"
      ],
      "metadata": {
        "colab": {
          "base_uri": "https://localhost:8080/"
        },
        "id": "DZRx6MmTTPnz",
        "outputId": "bb571507-ac7d-49b1-af9b-50311898f670"
      },
      "execution_count": 22,
      "outputs": [
        {
          "output_type": "stream",
          "name": "stdout",
          "text": [
            "0 0\n",
            "0 1\n",
            "1 0\n",
            "1 1\n",
            "2 0\n",
            "2 1\n"
          ]
        }
      ]
    },
    {
      "cell_type": "code",
      "source": [
        "# Sum of first n natural numbers\n",
        "n = int(input())\n",
        "total = 0\n",
        "for i in range(1, n+1):\n",
        "    total += i\n",
        "print(\"Sum =\", total)"
      ],
      "metadata": {
        "colab": {
          "base_uri": "https://localhost:8080/"
        },
        "id": "X2bj_9euTlI8",
        "outputId": "f1e33c69-6506-4d55-a0ca-7fa13625cb9c"
      },
      "execution_count": 23,
      "outputs": [
        {
          "output_type": "stream",
          "name": "stdout",
          "text": [
            "10\n",
            "Sum = 55\n"
          ]
        }
      ]
    },
    {
      "cell_type": "code",
      "source": [
        "# While loop example\n",
        "x = 1\n",
        "while x <= 10:\n",
        "    if x % 2 == 0:\n",
        "        print(x, \"is even\")\n",
        "    x += 1\n",
        "\n",
        "# What happens if we forget x += 1 in the while loop? (infinite loop)"
      ],
      "metadata": {
        "colab": {
          "base_uri": "https://localhost:8080/"
        },
        "id": "6E6eIkNeTriZ",
        "outputId": "f56b1325-8937-4548-b4f3-cd0d0573974b"
      },
      "execution_count": 25,
      "outputs": [
        {
          "output_type": "stream",
          "name": "stdout",
          "text": [
            "2 is even\n",
            "4 is even\n",
            "6 is even\n",
            "8 is even\n",
            "10 is even\n"
          ]
        }
      ]
    },
    {
      "cell_type": "markdown",
      "source": [
        "Loops are critical for:\n",
        "\n",
        "Reading multiple test cases.\n",
        "\n",
        "Iterating over arrays/lists.\n",
        "\n",
        "Brute-force solutions (checking all possibilities)."
      ],
      "metadata": {
        "id": "xI8wrMQmTz3a"
      }
    },
    {
      "cell_type": "code",
      "source": [
        "t = int(input())\n",
        "for _ in range(t):\n",
        "    n = int(input())\n",
        "    print(\"YES\" if n % 2 == 0 else \"NO\")"
      ],
      "metadata": {
        "colab": {
          "base_uri": "https://localhost:8080/"
        },
        "id": "s4URrTqTUCwE",
        "outputId": "23af8f5a-4685-4d57-fe87-842fff2cef8e"
      },
      "execution_count": 26,
      "outputs": [
        {
          "output_type": "stream",
          "name": "stdout",
          "text": [
            "7\n",
            "8\n",
            "YES\n",
            "9\n",
            "NO\n",
            "4\n",
            "YES\n",
            "9\n",
            "NO\n",
            "3\n",
            "NO\n",
            "1\n",
            "NO\n",
            "2\n",
            "YES\n"
          ]
        }
      ]
    },
    {
      "cell_type": "code",
      "source": [
        "# Fix this code:\n",
        "\n",
        "#for i in range(1, 10, -1):\n",
        "    #print(i)"
      ],
      "metadata": {
        "id": "l2fm_v7gURRt"
      },
      "execution_count": 27,
      "outputs": []
    },
    {
      "cell_type": "markdown",
      "source": [
        "Homework\n",
        "\n",
        "Print the multiplication table of a number n.\n",
        "Example: 5 x 1 = 5 ... 5 x 10 = 50.\n",
        "\n",
        "Write a program that calculates the factorial of n using a loop.\n",
        "\n",
        "Challenge: Given a number n, check if it is prime (simple O(n) loop)."
      ],
      "metadata": {
        "id": "gfnUbgwMUgHb"
      }
    }
  ]
}