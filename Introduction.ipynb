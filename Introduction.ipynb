{
  "nbformat": 4,
  "nbformat_minor": 0,
  "metadata": {
    "colab": {
      "provenance": []
    },
    "kernelspec": {
      "name": "python3",
      "display_name": "Python 3"
    },
    "language_info": {
      "name": "python"
    }
  },
  "cells": [
    {
      "cell_type": "markdown",
      "source": [
        "What is Python?\n",
        "\n",
        "A (one of) popular programming language. It was created by Guido van Rossum, and released in 1991.\n",
        "\n",
        "Its clean syntax makes it beginner-friendly. It's a high-level language (designed for ease of use and readability by humans, featuring abstractions that hide complex hardware details and focus on problem-solving tasks).\n",
        "\n",
        "Known for its readability, which means code is easier to write, understand and maintain."
      ],
      "metadata": {
        "id": "1WF5b-Mv4r-6"
      }
    },
    {
      "cell_type": "markdown",
      "source": [
        "Why to Learn Python?\n",
        "\n",
        "Python's \"Swiss Army knife\" flexibility allows it to be used in nearly every sector of the tech industry, including:\n",
        "\n",
        "1. Web development\n",
        "2. Data science and machine learning\n",
        "3. Automation and scripting\n",
        "4. Software development\n",
        "5. Cybersecurity\n",
        "6. Internet of Things (IOT)\n",
        "\n",
        "\n",
        "Community and resources:\n",
        "\n",
        "1. Large, supportive community\n",
        "2. Open-source ecosystem"
      ],
      "metadata": {
        "id": "aCUR8utr5jaz"
      }
    },
    {
      "cell_type": "markdown",
      "source": [
        "The most recent version of Python is Python 3.13, which we shall be using in this tutorial."
      ],
      "metadata": {
        "id": "nbIOTVJq6qzy"
      }
    },
    {
      "cell_type": "code",
      "source": [
        "# Basic Example program\n",
        "\n",
        "print(\"hello, world\")\n",
        "print(\"Hello, welcome to the world of Competitive Programming with Python!\")"
      ],
      "metadata": {
        "colab": {
          "base_uri": "https://localhost:8080/"
        },
        "id": "a1ImLXKo7L0Z",
        "outputId": "d98092ed-5a61-43fc-8658-9bcf0a7c339a"
      },
      "execution_count": 7,
      "outputs": [
        {
          "output_type": "stream",
          "name": "stdout",
          "text": [
            "hello, world\n",
            "Hello, welcome to the world of Competitive Programming with Python!\n"
          ]
        }
      ]
    },
    {
      "cell_type": "code",
      "source": [
        "# To check the latest version of the python\n",
        "get_ipython().system('python --version')"
      ],
      "metadata": {
        "colab": {
          "base_uri": "https://localhost:8080/"
        },
        "id": "D7EIMfbH7836",
        "outputId": "8b0def48-6c42-4459-dc85-c73ddd2fa0ee"
      },
      "execution_count": 4,
      "outputs": [
        {
          "output_type": "stream",
          "name": "stdout",
          "text": [
            "Python 3.12.11\n"
          ]
        }
      ]
    },
    {
      "cell_type": "code",
      "source": [
        "import sys\n",
        "\n",
        "print(sys.version)"
      ],
      "metadata": {
        "colab": {
          "base_uri": "https://localhost:8080/"
        },
        "id": "R-y3uaai8VsJ",
        "outputId": "bcdd7da7-c068-4fab-93ee-4db09b8cf0cc"
      },
      "execution_count": 5,
      "outputs": [
        {
          "output_type": "stream",
          "name": "stdout",
          "text": [
            "3.12.11 (main, Jun  4 2025, 08:56:18) [GCC 11.4.0]\n"
          ]
        }
      ]
    },
    {
      "cell_type": "markdown",
      "source": [
        "The correct file extension for Python files is: .py\n",
        "\n",
        "If we are using jupyter notebook then: .ipynb"
      ],
      "metadata": {
        "id": "A85yS4Gw8qbL"
      }
    },
    {
      "cell_type": "markdown",
      "source": [
        "Indentation\n",
        "\n",
        "Indentation refers to the spaces at the beginning of a code line.\n",
        "\n",
        "for readability only, the indentation in Python is very important.\n",
        "\n",
        "Python uses indentation to indicate a block of code.\n",
        "\n",
        "The number of spaces is up to you as a programmer, the most common use is four, but it has to be at least one."
      ],
      "metadata": {
        "id": "969ELpaKPIb6"
      }
    },
    {
      "cell_type": "code",
      "source": [
        "if 8 > 7:\n",
        " print(\"eight is greater than seven!\")\n",
        "else:\n",
        "        print(\"error!\")"
      ],
      "metadata": {
        "colab": {
          "base_uri": "https://localhost:8080/"
        },
        "id": "CAb6PmBhRT4z",
        "outputId": "db5bc6ca-97b3-4970-bbaa-543731b49c23"
      },
      "execution_count": 6,
      "outputs": [
        {
          "output_type": "stream",
          "name": "stdout",
          "text": [
            "eight is greater than seven!\n"
          ]
        }
      ]
    },
    {
      "cell_type": "code",
      "source": [
        "for i in range(3):\n",
        "    print(\"Inside loop\")\n",
        "print(\"Outside loop\")\n",
        "\n",
        "# Question: What happens if I don’t indent print(\"Inside loop\")?"
      ],
      "metadata": {
        "colab": {
          "base_uri": "https://localhost:8080/"
        },
        "id": "L50rMZ25SvvB",
        "outputId": "14371cab-eb83-405f-cc71-53a205073764"
      },
      "execution_count": 13,
      "outputs": [
        {
          "output_type": "stream",
          "name": "stdout",
          "text": [
            "Inside loop\n",
            "Inside loop\n",
            "Inside loop\n",
            "Outside loop\n"
          ]
        }
      ]
    },
    {
      "cell_type": "markdown",
      "source": [
        "Syntax\n",
        "\n",
        "Warm-up question:\n",
        "\n",
        "When you hear ‘syntax’ in a language, what do you think it means?\n",
        "\n",
        "How Python is different from C++/Java:\n",
        "No braces {}, no semicolons ;, indentation matters.\n",
        "\n",
        "consistent style.\n",
        "\n",
        "Case sensitivity (Var ≠ var).\n",
        "\n",
        "Comments: single-line (#) and multi-line (''' ... ''').\n",
        "\n",
        "Basic structure of a Python program: imports → definitions → main code."
      ],
      "metadata": {
        "id": "mKXAhFbXR-uJ"
      }
    },
    {
      "cell_type": "code",
      "source": [
        "# let's spot syntax errors:\n",
        "\n",
        "#for i in range(5)\n",
        "    #print(i)\n",
        "\n",
        "#Print(\"done\")\n",
        "\n",
        "# uncomment the above code and fix it!"
      ],
      "metadata": {
        "id": "GoSUv0x3TBAh"
      },
      "execution_count": 15,
      "outputs": []
    },
    {
      "cell_type": "markdown",
      "source": [
        "In view of Competitive programming:\n",
        "\n",
        "A missing colon → Runtime Error.\n",
        "\n",
        "Wrong indentation → IndentationError.\n",
        "\n",
        "Typos in print or input → NameError.\n",
        "\n",
        "Quick tip: always run small samples locally before submitting."
      ],
      "metadata": {
        "id": "UmpP-JQQcHg7"
      }
    },
    {
      "cell_type": "markdown",
      "source": [
        "Homework: 1\n",
        "\n",
        "Hello\n",
        "\n",
        "Hello Hello\n",
        "\n",
        "Hello Hello Hello\n",
        "\n",
        "Intentionally make 3 syntax mistakes (colon, indentation, case). Then fix them.\n",
        "\n",
        "Run at least 5 tiny programs until you get zero errors on first run."
      ],
      "metadata": {
        "id": "1-bmhIcEcR1h"
      }
    }
  ]
}